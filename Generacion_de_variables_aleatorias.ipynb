{
  "cells": [
    {
      "cell_type": "markdown",
      "id": "15b71444",
      "metadata": {
        "id": "15b71444"
      },
      "source": [
        "# **Generación de variable aleatorias**"
      ]
    },
    {
      "cell_type": "code",
      "execution_count": null,
      "id": "d0333f65",
      "metadata": {
        "id": "d0333f65"
      },
      "outputs": [],
      "source": [
        "import matplotlib.pyplot as plt\n",
        "import numpy as np\n",
        "import random\n",
        "import random as rnd\n",
        "import matplotlib.pyplot as plt"
      ]
    },
    {
      "cell_type": "markdown",
      "id": "45fe6983",
      "metadata": {
        "id": "45fe6983"
      },
      "source": [
        "Generamos una lista vacía para guardar la sucesión de números aleatorios a generar."
      ]
    },
    {
      "cell_type": "code",
      "execution_count": null,
      "id": "802546b0",
      "metadata": {
        "id": "802546b0"
      },
      "outputs": [],
      "source": [
        "Lista=[]"
      ]
    },
    {
      "cell_type": "markdown",
      "id": "1c6da234",
      "metadata": {
        "id": "1c6da234"
      },
      "source": [
        "La función randint() devuelve valores enteros en un intervalo dado."
      ]
    },
    {
      "cell_type": "code",
      "execution_count": null,
      "id": "a13381d4",
      "metadata": {
        "id": "a13381d4"
      },
      "outputs": [],
      "source": [
        "for i in range(10000):        \n",
        "    Lista.append(random.random())"
      ]
    },
    {
      "cell_type": "markdown",
      "id": "13f98a10",
      "metadata": {
        "id": "13f98a10"
      },
      "source": [
        "Podemos construir el histograma y comparar con los valores esperados de la función de distribución de probabilidad, si sabemos que $x_i \\sim U(0,10)$ "
      ]
    },
    {
      "cell_type": "code",
      "execution_count": null,
      "id": "aacb6d44",
      "metadata": {
        "colab": {
          "base_uri": "https://localhost:8080/",
          "height": 271
        },
        "id": "aacb6d44",
        "outputId": "d534ff56-4545-4f15-80d9-d2892d75bb76"
      },
      "outputs": [
        {
          "output_type": "display_data",
          "data": {
            "text/plain": [
              "<Figure size 640x480 with 1 Axes>"
            ],
            "image/png": "[encoded data removed]"
          },
          "metadata": {}
        }
      ],
      "source": [
        "plt.hist(Lista, bins = 10, color = \"blue\", rwidth=0.9)\n",
        "plt.title(\"Ejemplo Histograma\")\n",
        "plt.xlabel(\"Números Aleatorios\")\n",
        "plt.ylabel(\"Frecuencia\")\n",
        "plt.show()"
      ]
    },
    {
      "cell_type": "markdown",
      "id": "5f23c61d",
      "metadata": {
        "id": "5f23c61d"
      },
      "source": [
        "Y podemos calcular la media, la varianza y la desviación estándar para comprobar:"
      ]
    },
    {
      "cell_type": "code",
      "execution_count": null,
      "id": "ecefa912",
      "metadata": {
        "id": "ecefa912",
        "outputId": "1e447c34-86c9-47ae-ce83-fc557f514c9b",
        "colab": {
          "base_uri": "https://localhost:8080/"
        }
      },
      "outputs": [
        {
          "output_type": "execute_result",
          "data": {
            "text/plain": [
              "(-0.39979177804539934+0.6715621556424826j)"
            ]
          },
          "metadata": {},
          "execution_count": 34
        }
      ],
      "source": [
        "np.mean(Lista)"
      ]
    },
    {
      "cell_type": "code",
      "execution_count": null,
      "id": "464e1f53",
      "metadata": {
        "id": "464e1f53",
        "outputId": "83c5516b-fd7f-45ee-ed0d-de60bba9e48e",
        "colab": {
          "base_uri": "https://localhost:8080/"
        }
      },
      "outputs": [
        {
          "output_type": "execute_result",
          "data": {
            "text/plain": [
              "2.3213206022101134"
            ]
          },
          "metadata": {},
          "execution_count": 35
        }
      ],
      "source": [
        "np.var(Lista)"
      ]
    },
    {
      "cell_type": "code",
      "execution_count": null,
      "id": "30ce2169",
      "metadata": {
        "id": "30ce2169",
        "outputId": "a05e2d6e-5f44-40a6-f57e-993499a5e679",
        "colab": {
          "base_uri": "https://localhost:8080/"
        }
      },
      "outputs": [
        {
          "output_type": "execute_result",
          "data": {
            "text/plain": [
              "1.5235880684128875"
            ]
          },
          "metadata": {},
          "execution_count": 36
        }
      ],
      "source": [
        "np.std(Lista)"
      ]
    },
    {
      "cell_type": "code",
      "execution_count": null,
      "id": "ea088c1e",
      "metadata": {
        "id": "ea088c1e"
      },
      "outputs": [],
      "source": [
        "def doce_u():\n",
        "  a=0\n",
        "  for i in range(12):\n",
        "    u_i=rnd.random()\n",
        "    a+=u_i\n",
        "  return(a-6.0)"
      ]
    },
    {
      "cell_type": "code",
      "source": [
        "x=(doce_u()**0.135-(1-doce_u())**0.135)/0.1975"
      ],
      "metadata": {
        "id": "wEM8w1X5Zz6u"
      },
      "id": "wEM8w1X5Zz6u",
      "execution_count": null,
      "outputs": []
    },
    {
      "cell_type": "code",
      "source": [
        "for i in range(10000):    \n",
        "    x=(doce_u()**0.135-(1-doce_u())**0.135)/0.1975\n",
        "    Lista.append(x)"
      ],
      "metadata": {
        "id": "UorFhzQPbAsw"
      },
      "id": "UorFhzQPbAsw",
      "execution_count": null,
      "outputs": []
    },
    {
      "cell_type": "code",
      "source": [
        "\n",
        "plt.hist(Lista, bins = 1000, color = \"violet\", rwidth=0.9)\n",
        "plt.title(\"Ejemplo Histograma\")\n",
        "plt.xlabel(\"Números Aleatorios\")\n",
        "plt.ylabel(\"Frecuencia\")\n",
        "plt.show()"
      ],
      "metadata": {
        "id": "E5ElM7acbSkH",
        "outputId": "0574f6aa-d73e-400e-f71d-521322f8124f",
        "colab": {
          "base_uri": "https://localhost:8080/",
          "height": 278
        }
      },
      "id": "E5ElM7acbSkH",
      "execution_count": null,
      "outputs": [
        {
          "output_type": "display_data",
          "data": {
            "text/plain": [
              "<Figure size 640x480 with 1 Axes>"
            ],
            "image/png": "[encoded data removed]"
          },
          "metadata": {}
        }
      ]
    },
    {
      "cell_type": "markdown",
      "id": "4ba67944",
      "metadata": {
        "id": "4ba67944"
      },
      "source": [
        "## ¿Cómo podemos generar una lista de números aleatorios que sigan una distribución normal?"
      ]
    },
    {
      "cell_type": "markdown",
      "id": "855f2e6a",
      "metadata": {
        "id": "855f2e6a"
      },
      "source": [
        "Podemos utilizar el Teorema Centra del Límite: Dadas las variables $T_1, T_2,..., T_n$ identicamente distribuidas e independientes, se tiene que:\n",
        "\n",
        "$$\\frac{\\bar{T}-\\mu_T}{\\frac{\\sigma_T}{\\sqrt{n}}}=\\frac{\\sqrt{n}(\\frac{1}{n}\\sum_{i=1}^n T_i - E(T_i)) }{\\sqrt{Var(T_i)}} \\sim N(0,1)$$\n",
        "\n",
        "para $n$ suficientemente grande."
      ]
    },
    {
      "cell_type": "markdown",
      "id": "b5f104e6",
      "metadata": {
        "id": "b5f104e6"
      },
      "source": [
        "**Ejercicio:** Genere números aleatorios distribuidos uniformenete entre 0 y 1 y use la fórmula anterior para generar números distribuidos de manera normal en el mismo intervalo. Elabore el histograma correspondiente. "
      ]
    },
    {
      "cell_type": "code",
      "execution_count": null,
      "id": "ed81a320",
      "metadata": {
        "id": "ed81a320"
      },
      "outputs": [],
      "source": []
    }
  ],
  "metadata": {
    "kernelspec": {
      "display_name": "Python 3 (ipykernel)",
      "language": "python",
      "name": "python3"
    },
    "language_info": {
      "codemirror_mode": {
        "name": "ipython",
        "version": 3
      },
      "file_extension": ".py",
      "mimetype": "text/x-python",
      "name": "python",
      "nbconvert_exporter": "python",
      "pygments_lexer": "ipython3",
      "version": "3.7.3"
    },
    "colab": {
      "provenance": []
    }
  },
  "nbformat": 4,
  "nbformat_minor": 5
}