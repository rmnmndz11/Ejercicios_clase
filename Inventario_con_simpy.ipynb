{
  "nbformat": 4,
  "nbformat_minor": 0,
  "metadata": {
    "colab": {
      "provenance": [],
      "authorship_tag": "ABX9TyPy8ve9fITLvU9Koiz+pvZ0",
      "include_colab_link": true
    },
    "kernelspec": {
      "name": "python3",
      "display_name": "Python 3"
    },
    "language_info": {
      "name": "python"
    }
  },
  "cells": [
    {
      "cell_type": "markdown",
      "metadata": {
        "id": "view-in-github",
        "colab_type": "text"
      },
      "source": [
        "<a href=\"https://colab.research.google.com/github/rmnmndz11/Ejercicios_clase/blob/main/Inventario_con_simpy.ipynb\" target=\"_parent\"><img src=\"https://colab.research.google.com/assets/colab-badge.svg\" alt=\"Open In Colab\"/></a>"
      ]
    },
    {
      "cell_type": "code",
      "execution_count": 11,
      "metadata": {
        "colab": {
          "base_uri": "https://localhost:8080/"
        },
        "id": "h2Mwcr4KJluY",
        "outputId": "c34263c9-cac9-456a-c6b3-4fbc630d0d37"
      },
      "outputs": [
        {
          "output_type": "stream",
          "name": "stdout",
          "text": [
            "Looking in indexes: https://pypi.org/simple, https://us-python.pkg.dev/colab-wheels/public/simple/\n",
            "Requirement already satisfied: simpy in /usr/local/lib/python3.10/dist-packages (4.0.1)\n"
          ]
        }
      ],
      "source": [
        "%pip install simpy #Se instala la librería Simpy\n",
        "import simpy #Se importan las librerías necesarias para la simulación\n",
        "import numpy as np\n",
        "import matplotlib.pyplot as plt"
      ]
    },
    {
      "cell_type": "code",
      "source": [
        "def warehouse_run(env, order_cutoff, order_target): #Se define una función \"warehouse_run\" que simula el funcionamiento del almacén.\n",
        "  global inventory, balance, num_order #Se inicializan las variables globales que rastrearan el inventario, el balance y el número de órdenes realizadas en el almacén.\n",
        "\n",
        "  inventory = order_target\n",
        "  balance = 0.0\n",
        "  num_ordered = 0\n",
        "\n",
        "  while True: #En este bucle infinito, se genera un tiempo de interarribo utilizando la función generate_interarrival()\n",
        "    interarrival = generate_interarrival()\n",
        "    yield env.timeout(interarrival) #Se espera el tiempo de llegada utilizando yield env.timeout(interarrival)\n",
        "    balance -= inventory*2*interarrival #Se calcula el costo de mantener el inventario\n",
        "    demand = generate_demand() #Se genera la demanda\n",
        "    if demand < inventory: #Si la demanda es menor que el inventario actual, se venden los productos, se actualiza el balance y se reduce el inventario.\n",
        "      balance += 100*demand\n",
        "      inventory -= demand\n",
        "      print ('{:.2f} sold {}'.format(env.now, demand)) #Se imprime un mensaje indicando la cantidad vendida.\n",
        "    else: #Si la demanda es igual o mayor que el inventario actual, se venden todos los productos en el inventario, se actualiza el balance y se establece el inventario en cero.\n",
        "        balance += 100*inventory\n",
        "        inventory = 0\n",
        "        print ('{:.2f} sold {} (out of stock)'.format(env.now, inventory)) #Se imprime un mensaje indicando que no hay suficiente inventario.\n",
        "    if inventory < order_cutoff and num_ordered == 0: #Si el inventario es menor que \"order_cutoff\" y no se ha realizado ningún pedido, se inicia un proceso para manejar un pedido llamando a la función handle_order().\n",
        "      env.process(handle_order(env, order_target))\n",
        "\n",
        "def handle_order(env, order_target): #Esta función maneja el proceso de realizar un pedido\n",
        "  global inventory, balance, num_ordered\n",
        "\n",
        "  num_ordered = order_target - inventory #Se calcula la cantidad de productos a pedir restando el inventario deseado al inventario actual\n",
        "  print ('{:.2f} placed order for {}'.format(env.now, num_ordered)) #Se imprime un mensaje indicando la cantidad de productos pedidos.\n",
        "  balance -= 50*num_ordered #Se actualiza el balance restando el costo de realizar el pedido\n",
        "  yield env.timeout(2.0) #Se espera un tiempo de 2 unidades para simular el tiempo de entrega del pedido.\n",
        "  inventory += num_ordered #Se incrementa el inventario en la cantidad pedida\n",
        "  num_ordered = 0\n",
        "  print ('{:.2f} placed order, {} in inventory'.format(env.now, inventory)) #Se imprime un mensaje indicando la cantidad de productos en el inventario después de recibir el pedido.\n",
        "\n",
        "def generate_interarrival(): # Esta función genera el tiempo entre llegadas de clientes utilizando una distribución exponencial.\n",
        "  return np.random.exponential(1./5)\n",
        "\n",
        "def generate_demand(): #Esta función genera la demanda de productos utilizando una distribución discreta (números enteros entre 1 y 4).\n",
        "  return np.random.randint(1, 5)\n",
        "\n",
        "obs_time = [] #Se almacenan los tiempos de observación\n",
        "inventory_level = [] #Se almacenan los niveles de inventario.\n",
        "\n",
        "def observe(env): #Se registran los tiempos de observación y los niveles de inventario en las listas obs_time y inventory_level, respectivamente.\n",
        "  global inventory\n",
        "\n",
        "  while True:\n",
        "    obs_time.append(env.now)\n",
        "    inventory_level.append(inventory)\n",
        "    yield env.timeout(0.1) # Se espera un tiempo de 0.1 unidades en cada iteración.\n",
        "\n",
        "np.random.seed(0) #Se establece la semilla del generador de números aleatorios para obtener resultados reproducibles.\n",
        "\n",
        "env = simpy.Environment() #Se crea un entorno de simulación\n",
        "env.process(warehouse_run(env, 10, 30)) # Se inicia el proceso warehouse_run(env, 10, 30) para simular el funcionamiento del almacén\n",
        "env.process(observe(env)) #Observe(env) observar los niveles de inventario.\n",
        "\n",
        "env.run(until=5.0) #Se ejecuta la simulación hasta que se alcance un tiempo de simulación de 5 unidades\n",
        "\n",
        "plt.figure()\n",
        "plt.step(obs_time, inventory_level, where='post') #Se traza un gráfico de escalones (step) con los tiempos de observación (obs_time) en el eje x y los niveles de inventario (inventory_level) en el eje y.\n",
        "plt.xlabel('Simulation time (days)')\n",
        "plt.ylabel('Inventory level')"
      ],
      "metadata": {
        "colab": {
          "base_uri": "https://localhost:8080/",
          "height": 1000
        },
        "id": "Sw5pbQgeNfy5",
        "outputId": "5b76e1ed-3854-4690-cc95-c1d0296d7694"
      },
      "execution_count": 15,
      "outputs": [
        {
          "output_type": "stream",
          "name": "stdout",
          "text": [
            "0.16 sold 2\n",
            "0.53 sold 4\n",
            "0.69 sold 2\n",
            "0.88 sold 3\n",
            "1.00 sold 3\n",
            "1.01 sold 1\n",
            "1.11 sold 3\n",
            "1.44 sold 3\n",
            "1.44 placed order for 21\n",
            "1.61 sold 2\n",
            "1.61 placed order for 23\n",
            "1.97 sold 1\n",
            "1.97 placed order for 24\n",
            "1.99 sold 4\n",
            "1.99 placed order for 28\n",
            "2.08 sold 0 (out of stock)\n",
            "2.08 placed order for 30\n",
            "2.38 sold 0 (out of stock)\n",
            "2.38 placed order for 30\n",
            "2.79 sold 0 (out of stock)\n",
            "2.79 placed order for 30\n",
            "3.11 sold 0 (out of stock)\n",
            "3.11 placed order for 30\n",
            "3.26 sold 0 (out of stock)\n",
            "3.26 placed order for 30\n",
            "3.28 sold 0 (out of stock)\n",
            "3.28 placed order for 30\n",
            "3.44 placed order, 30 in inventory\n",
            "3.46 sold 2\n",
            "3.61 placed order, 28 in inventory\n",
            "3.97 placed order, 28 in inventory\n",
            "3.99 placed order, 28 in inventory\n",
            "4.04 sold 4\n",
            "4.06 sold 4\n",
            "4.08 placed order, 20 in inventory\n",
            "4.12 sold 4\n",
            "4.38 placed order, 16 in inventory\n",
            "4.39 sold 1\n",
            "4.56 sold 1\n",
            "4.63 sold 2\n",
            "4.79 placed order, 12 in inventory\n",
            "4.82 sold 1\n",
            "4.92 sold 1\n"
          ]
        },
        {
          "output_type": "execute_result",
          "data": {
            "text/plain": [
              "Text(0, 0.5, 'Inventory level')"
            ]
          },
          "metadata": {},
          "execution_count": 15
        },
        {
          "output_type": "display_data",
          "data": {
            "text/plain": [
              "<Figure size 640x480 with 1 Axes>"
            ],
            "image/png": "[encoded data removed]"
          },
          "metadata": {}
        }
      ]
    }
  ]
}