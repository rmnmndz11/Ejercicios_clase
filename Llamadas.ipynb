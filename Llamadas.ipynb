{
  "nbformat": 4,
  "nbformat_minor": 0,
  "metadata": {
    "colab": {
      "provenance": [],
      "include_colab_link": true
    },
    "kernelspec": {
      "name": "python3",
      "display_name": "Python 3"
    },
    "language_info": {
      "name": "python"
    }
  },
  "cells": [
    {
      "cell_type": "markdown",
      "metadata": {
        "id": "view-in-github",
        "colab_type": "text"
      },
      "source": [
        "<a href=\"https://colab.research.google.com/github/rmnmndz11/Ejercicios_clase/blob/main/Llamadas.ipynb\" target=\"_parent\"><img src=\"https://colab.research.google.com/assets/colab-badge.svg\" alt=\"Open In Colab\"/></a>"
      ]
    },
    {
      "cell_type": "code",
      "execution_count": null,
      "metadata": {
        "colab": {
          "base_uri": "https://localhost:8080/"
        },
        "id": "I3RmKRgsR0bZ",
        "outputId": "5e2b02b4-e754-4fc5-d451-159f2cab7e61"
      },
      "outputs": [
        {
          "output_type": "stream",
          "name": "stdout",
          "text": [
            "Tiempo medio de respuesta de la central de emergencias: 2.000140809322594 minutos\n"
          ]
        }
      ],
      "source": [
        "\n",
        "import numpy as np\n",
        "\n",
        "medias = [2.0, 2.1, 1.9]\n",
        "desviaciones = [0.4, 0.3, 0.5]\n",
        "\n",
        "num_simulaciones = 100000\n",
        "\n",
        "tiempos_respuesta = []\n",
        "for _ in range(num_simulaciones):\n",
        "    duraciones = [np.random.normal(media, desviacion) for media, desviacion in zip(medias, desviaciones)]\n",
        "    tiempo_respuesta = sum(duraciones) / len(duraciones)\n",
        "    tiempos_respuesta.append(tiempo_respuesta)\n",
        "\n",
        "tiempo_medio_respuesta = np.mean(tiempos_respuesta)\n",
        "\n",
        "print(\"Tiempo medio de respuesta de la central de emergencias:\", tiempo_medio_respuesta, \"minutos\")"
      ]
    }
  ]
}