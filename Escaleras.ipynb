{
  "nbformat": 4,
  "nbformat_minor": 0,
  "metadata": {
    "colab": {
      "provenance": []
    },
    "kernelspec": {
      "name": "python3",
      "display_name": "Python 3"
    },
    "language_info": {
      "name": "python"
    }
  },
  "cells": [
    {
      "cell_type": "code",
      "execution_count": null,
      "metadata": {
        "id": "stctpO4cNfRf"
      },
      "outputs": [],
      "source": [
        "import numpy as np\n",
        "import random\n",
        "import matplotlib.pyplot as plt"
      ]
    },
    {
      "cell_type": "code",
      "source": [
        "dado=0\n",
        "p=0\n",
        "moves=0\n",
        "tirada=0\n",
        "Lista=[]"
      ],
      "metadata": {
        "id": "HthVVwn-N9xg"
      },
      "execution_count": null,
      "outputs": []
    },
    {
      "cell_type": "code",
      "source": [
        "\n",
        "def juego():\n",
        "  p=0\n",
        "  moves=0\n",
        "  while p<=20:\n",
        "    dado=random.randint(1,6)\n",
        "    p=p+dado\n",
        "    if p==3:\n",
        "      p=11\n",
        "    elif p==13:\n",
        "      p=4\n",
        "    elif p==15:\n",
        "      p=19\n",
        "    elif p==17:\n",
        "      p=10\n",
        "    moves=moves+1\n",
        " \n",
        "  return(moves)"
      ],
      "metadata": {
        "id": "Nso_mnDuNsG3"
      },
      "execution_count": null,
      "outputs": []
    },
    {
      "cell_type": "code",
      "source": [
        "\n",
        "n=500\n",
        "for i in range (n):\n",
        "  Lista.append(juego())\n",
        "  tirada=tirada+juego()\n",
        "\n",
        "print(\"El número de tiradas promedio para completar el juego son de: \", tirada/n)\n",
        "print(\"El promedio es: \", np.mean(Lista))\n",
        "print(\"La varianza es: \", np.var(Lista))\n",
        "print(\"La desviación estandar es: \", np.mean(Lista))\n",
        "print(\"El intervalo de confianza es: \", \n",
        "np.mean(Lista)-(1.96)*((np.var(Lista))/np.sqrt(n)), \"≤ m ≤\", \n",
        "np.mean(Lista)+(1.96)*((np.var(Lista))/np.sqrt(n)))"
      ],
      "metadata": {
        "colab": {
          "base_uri": "https://localhost:8080/"
        },
        "id": "7ajzIIADOoty",
        "outputId": "720f3203-7949-41cd-90b9-09c6a9622d0b"
      },
      "execution_count": null,
      "outputs": [
        {
          "output_type": "stream",
          "name": "stdout",
          "text": [
            "El número de tiradas promedio para completar el juego son de:  7.232\n",
            "El promedio es:  7.208\n",
            "La varianza es:  10.060735999999999\n",
            "La desviación estandar es:  7.208\n",
            "El intervalo de confianza es:  6.326137607692571 ≤ m ≤ 8.08986239230743\n"
          ]
        }
      ]
    }
  ]
}