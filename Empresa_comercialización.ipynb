{
  "cells": [
    {
      "cell_type": "markdown",
      "metadata": {
        "id": "view-in-github",
        "colab_type": "text"
      },
      "source": [
        "<a href=\"https://colab.research.google.com/github/rmnmndz11/Ejercicios_clase/blob/main/Empresa_comercializaci%C3%B3n.ipynb\" target=\"_parent\"><img src=\"https://colab.research.google.com/assets/colab-badge.svg\" alt=\"Open In Colab\"/></a>"
      ]
    },
    {
      "cell_type": "markdown",
      "source": [
        "# Ejercicio 2"
      ],
      "metadata": {
        "id": "0wDQ7AzNTjS9"
      },
      "id": "0wDQ7AzNTjS9"
    },
    {
      "cell_type": "code",
      "execution_count": 1,
      "id": "191b1e9b",
      "metadata": {
        "id": "191b1e9b"
      },
      "outputs": [],
      "source": [
        "import numpy as np\n",
        "import random #Librería para generar número aleatoríos\n",
        "import matplotlib.pyplot as plt #Librería para gráficar"
      ]
    },
    {
      "cell_type": "markdown",
      "source": [
        "**PASO 5** Genere números aleatorios."
      ],
      "metadata": {
        "id": "71gTIy1uUJXW"
      },
      "id": "71gTIy1uUJXW"
    },
    {
      "cell_type": "code",
      "execution_count": 14,
      "id": "25fbe36d",
      "metadata": {
        "id": "25fbe36d"
      },
      "outputs": [],
      "source": [
        "def ventas_sim(): #En esta función vamos a obtener el número de horas entre averias dependiendo el número aleatorio que se obtenga\n",
        "    ventas=0\n",
        "    u = random.random() \n",
        "    if 0.0 <= u < 0.21999:\n",
        "        ventas = 100\n",
        "    elif 0.22 <= u < 0.46999:\n",
        "        ventas = 200\n",
        "    elif 0.47 <= u < 0.57999:\n",
        "        ventas = 300\n",
        "    elif 0.58 <= u < 0.82999:\n",
        "        ventas = 400\n",
        "    elif 0.83 <= u < 0.93999:\n",
        "        ventas = 500\n",
        "    elif 0.94 <= u < 1.0:\n",
        "        ventas = 600\n",
        "    return ventas"
      ]
    },
    {
      "cell_type": "markdown",
      "source": [
        "**PASO 6** Diseñe el experimento"
      ],
      "metadata": {
        "id": "M4p69RpqUJiC"
      },
      "id": "M4p69RpqUJiC"
    },
    {
      "cell_type": "code",
      "execution_count": 48,
      "id": "955e0989",
      "metadata": {
        "id": "955e0989"
      },
      "outputs": [],
      "source": [
        "def beneficio(pedido):\n",
        "    ingreso = 0 #Inicializamos las variables que vamos a ocupar\n",
        "    devuelto = 0\n",
        "    ingreso_dev = 0\n",
        "    vs = ventas_sim()\n",
        "    coste = 0\n",
        "    ben = 0 \n",
        "    if pedido > vs: #Agregamos las condiciones para los pedidos\n",
        "        ingreso = vs *1000\n",
        "        devuelto = pedido - vs \n",
        "        ingreso_dev = devuelto*250\n",
        "        \n",
        "    else: \n",
        "        ingreso = pedido*1000\n",
        "        devuelto = 0\n",
        "        ingreso_dev = 0\n",
        "    \n",
        "    coste = 750 * pedido \n",
        "    ben = ingreso + ingreso_dev - coste\n",
        "    return ben"
      ]
    },
    {
      "cell_type": "code",
      "execution_count": 49,
      "id": "34b4243f",
      "metadata": {
        "id": "34b4243f",
        "outputId": "2c7aa7b1-a9d7-4f96-c4c6-c860e51eb3f1",
        "colab": {
          "base_uri": "https://localhost:8080/"
        }
      },
      "outputs": [
        {
          "output_type": "execute_result",
          "data": {
            "text/plain": [
              "25000"
            ]
          },
          "metadata": {},
          "execution_count": 49
        }
      ],
      "source": [
        "beneficio(100)"
      ]
    },
    {
      "cell_type": "code",
      "execution_count": 65,
      "id": "5594aeea",
      "metadata": {
        "id": "5594aeea"
      },
      "outputs": [],
      "source": [
        "def simulacion(n):\n",
        "    L=[]\n",
        "    benef = 0\n",
        "    for i in range(n):\n",
        "        benef += beneficio(600)\n",
        "        L.append(benef/(i+1))\n",
        "    return L"
      ]
    },
    {
      "cell_type": "code",
      "execution_count": 66,
      "id": "9e8db4c9",
      "metadata": {
        "id": "9e8db4c9"
      },
      "outputs": [],
      "source": [
        "X=simulacion(500) "
      ]
    },
    {
      "cell_type": "code",
      "execution_count": 67,
      "id": "af40deda",
      "metadata": {
        "id": "af40deda",
        "colab": {
          "base_uri": "https://localhost:8080/",
          "height": 447
        },
        "outputId": "6fff8aff-25ec-4729-f41f-419a3a9be9aa"
      },
      "outputs": [
        {
          "output_type": "execute_result",
          "data": {
            "text/plain": [
              "[<matplotlib.lines.Line2D at 0x7f66342cb460>]"
            ]
          },
          "metadata": {},
          "execution_count": 67
        },
        {
          "output_type": "display_data",
          "data": {
            "text/plain": [
              "<Figure size 640x480 with 1 Axes>"
            ],
            "image/png": "[encoded data removed]"
          },
          "metadata": {}
        }
      ],
      "source": [
        "plt.plot(X) #Se grafica el costo promedio"
      ]
    },
    {
      "cell_type": "code",
      "execution_count": 41,
      "id": "8cd260f2",
      "metadata": {
        "id": "8cd260f2",
        "outputId": "cac9e1a5-573b-4efb-fdd6-fe2c3b95f996",
        "colab": {
          "base_uri": "https://localhost:8080/"
        }
      },
      "outputs": [
        {
          "output_type": "execute_result",
          "data": {
            "text/plain": [
              "31280.0193374023"
            ]
          },
          "metadata": {},
          "execution_count": 41
        }
      ],
      "source": [
        "np.mean(X) #Se obtiene la media"
      ]
    },
    {
      "cell_type": "markdown",
      "source": [
        "**PASO 7** Repita el experimento n veces"
      ],
      "metadata": {
        "id": "0vyNGDYuUJqN"
      },
      "id": "0vyNGDYuUJqN"
    },
    {
      "cell_type": "code",
      "execution_count": 39,
      "id": "1fd595fe",
      "metadata": {
        "id": "1fd595fe"
      },
      "outputs": [],
      "source": [
        "def modelo(n):\n",
        "    lista=[]\n",
        "    for i in range(n):\n",
        "        s = simulacion(500)\n",
        "        lista.append(np.mean(s))\n",
        "    return lista"
      ]
    },
    {
      "cell_type": "code",
      "execution_count": 40,
      "id": "545016ae",
      "metadata": {
        "id": "545016ae"
      },
      "outputs": [],
      "source": [
        "Y=modelo(40) #Hacemos el modelos más veces"
      ]
    },
    {
      "cell_type": "code",
      "execution_count": 22,
      "id": "bd58f8d8",
      "metadata": {
        "id": "bd58f8d8",
        "colab": {
          "base_uri": "https://localhost:8080/"
        },
        "outputId": "39a9c8b9-f1f1-4db2-bf7d-65b546f0ec90"
      },
      "outputs": [
        {
          "output_type": "stream",
          "name": "stdout",
          "text": [
            "64502.00293770553 4331.086946133424\n"
          ]
        }
      ],
      "source": [
        "print(np.mean(Y), np.std(Y))"
      ]
    },
    {
      "cell_type": "code",
      "execution_count": 23,
      "id": "25176c75",
      "metadata": {
        "id": "25176c75",
        "colab": {
          "base_uri": "https://localhost:8080/",
          "height": 430
        },
        "outputId": "290b19ea-d5f6-417a-dfa0-26ffde20e5ca"
      },
      "outputs": [
        {
          "output_type": "display_data",
          "data": {
            "text/plain": [
              "<Figure size 640x480 with 1 Axes>"
            ],
            "image/png": "[encoded data removed]"
          },
          "metadata": {}
        }
      ],
      "source": [
        "plt.hist(Y) \n",
        "plt.show()"
      ]
    },
    {
      "cell_type": "markdown",
      "source": [
        "**Paso 8** Hallamos el intervalo de confianza."
      ],
      "metadata": {
        "id": "-pOewgmjUnbG"
      },
      "id": "-pOewgmjUnbG"
    },
    {
      "cell_type": "code",
      "execution_count": 13,
      "id": "12370349",
      "metadata": {
        "id": "12370349",
        "colab": {
          "base_uri": "https://localhost:8080/"
        },
        "outputId": "ef3513c7-235d-47a0-a73e-4d12bf6ea6bc"
      },
      "outputs": [
        {
          "output_type": "stream",
          "name": "stdout",
          "text": [
            "El intervalo de confianza es:  -26703513.30380414 ≤ m ≤ 26811126.08057684\n"
          ]
        }
      ],
      "source": [
        "print(\"El intervalo de confianza es: \",\n",
        "np.mean(Y)-(1.96)*((np.var(Y))/np.sqrt(40)), \"≤ m ≤\",\n",
        "np.mean(Y)+(1.96)*((np.var(Y))/np.sqrt(40)))"
      ]
    }
  ],
  "metadata": {
    "kernelspec": {
      "display_name": "Python 3 (ipykernel)",
      "language": "python",
      "name": "python3"
    },
    "language_info": {
      "codemirror_mode": {
        "name": "ipython",
        "version": 3
      },
      "file_extension": ".py",
      "mimetype": "text/x-python",
      "name": "python",
      "nbconvert_exporter": "python",
      "pygments_lexer": "ipython3",
      "version": "3.7.3"
    },
    "colab": {
      "provenance": [],
      "include_colab_link": true
    }
  },
  "nbformat": 4,
  "nbformat_minor": 5
}