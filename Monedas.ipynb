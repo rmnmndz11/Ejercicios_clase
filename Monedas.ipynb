{
  "cells": [
    {
      "cell_type": "markdown",
      "metadata": {
        "id": "a5cc0a87"
      },
      "source": [
        "# Metodología de la Simulación"
      ],
      "id": "a5cc0a87"
    },
    {
      "cell_type": "markdown",
      "metadata": {
        "id": "0e218d98"
      },
      "source": [
        "### 1. Identifique las variables \n",
        "\n",
        "Aquellas cuyo comportamiento define el comportamiento o la evoución global del sistema real."
      ],
      "id": "0e218d98"
    },
    {
      "cell_type": "markdown",
      "metadata": {
        "id": "3ebcd0f2"
      },
      "source": [
        "### 2. Determine la distribución de probabilidad\n",
        "\n",
        "Elija el tipo de distribución de probabilidad que mejor defina el comportamiento aleatorio de cada una de las variables del sistema identificadas en el paso anterior."
      ],
      "id": "3ebcd0f2"
    },
    {
      "cell_type": "markdown",
      "metadata": {
        "id": "803801d5"
      },
      "source": [
        "### 3. Modele las variables aleatorias \n",
        "\n",
        "Cosntruya un modelo fiel de la aleatoriedad de las variables del sistema. Simular el comportamiento del sistema implica generar muestras aleatorias de cada variable que sigan fielmente la distribución de probabilidad correspondiente."
      ],
      "id": "803801d5"
    },
    {
      "cell_type": "markdown",
      "metadata": {
        "id": "33709223"
      },
      "source": [
        "### 4. Defina el modelo del sistema y los objetivos de la simulación \n",
        "\n",
        "Fije los objetivos y diseñe un modelo del sistema real que abstraiga sus propiedades más relevantes. Todo error en el modelo (o su implementación computacional) puede dar lugar a conclusiones equivocadas. \n",
        "\n",
        "Antes de experimentar con el modelo, asegurarse de que refleja fielmente el sistema real **validando** el mismo a partir de datos reales, para ello compare los resultados obtenidos de la simulación con los producidos por el sistema."
      ],
      "id": "33709223"
    },
    {
      "cell_type": "markdown",
      "metadata": {
        "id": "7f853065"
      },
      "source": [
        "### 5. Diseñe el experimento\n",
        "\n",
        "Diseñe un experimento así como las ejecuciones concretas del mismo, los escenarios que desea estudiar para alcanzar los objetivos fijados. El experimento consiste en generar valores de las variables cuyo comportamiento define el comportamiento del sistema y analizar este ante dichos valores."
      ],
      "id": "7f853065"
    },
    {
      "cell_type": "markdown",
      "metadata": {
        "id": "15ae61c8"
      },
      "source": [
        "### 6. Repita el experimento $n$ veces \n",
        "\n",
        "Así dispondrá de $n$ observaciones sobre el comportamiento del sistema, lo que permitirá entender su funcionamiento así como evaluar el desempeño del mismo frente a los diversos escenarios establecidos.\n",
        "\n",
        "El **método Monte Carlo** se basa en la **Ley Fuerte de los Grandes Números** y el **Teorema del Límite Central**."
      ],
      "id": "15ae61c8"
    },
    {
      "cell_type": "markdown",
      "metadata": {
        "id": "51ce3fa1"
      },
      "source": [
        "## Ejemplo\n",
        "\n",
        "Calcule la probabilidad de que aparezcan dos caras lanzando tres veces una moneda al aire.\n",
        "\n",
        "1. Analíticamente.\n",
        "2. Mediante simulación."
      ],
      "id": "51ce3fa1"
    },
    {
      "cell_type": "markdown",
      "metadata": {
        "id": "6f1b4105"
      },
      "source": [
        "Analiticamente:"
      ],
      "id": "6f1b4105"
    },
    {
      "cell_type": "code",
      "execution_count": null,
      "metadata": {
        "id": "bb5e678d"
      },
      "outputs": [],
      "source": [
        "Podemos escribir todas las posibilidades (llamamos X a cruz y O a cara):\n",
        "\n",
        "XXX, OOO\n",
        "\n",
        "XX0, OOX\n",
        "\n",
        "X0X, OXO\n",
        "\n",
        "X00, OXX\n",
        "\n",
        "Tenemos ocho casos posibles, siendo tres los casos de interés (OOX, OXO y XOO). \n",
        "Los ocho son igualmente posibles. Entonces, la probabilidad de tener el mismo \n",
        "resultado en todas las monedas serà 3/8 = 37.5%"
      ],
      "id": "bb5e678d"
    },
    {
      "cell_type": "markdown",
      "metadata": {
        "id": "564ca694"
      },
      "source": [
        "Por simulación: Construimos el modelo en varios pasos."
      ],
      "id": "564ca694"
    },
    {
      "cell_type": "markdown",
      "metadata": {
        "id": "fbbc8571"
      },
      "source": [
        "**PASO 1**. Defina las variables que intervienen en el modelo."
      ],
      "id": "fbbc8571"
    },
    {
      "cell_type": "code",
      "execution_count": null,
      "metadata": {
        "id": "37c5f31c"
      },
      "outputs": [],
      "source": [
        "Cara (c) y cruz (cr)"
      ],
      "id": "37c5f31c"
    },
    {
      "cell_type": "markdown",
      "metadata": {
        "id": "4d3899f3"
      },
      "source": [
        "**PASO 2**. Formule la distribución de probabilidad de cada variable."
      ],
      "id": "4d3899f3"
    },
    {
      "cell_type": "markdown",
      "metadata": {
        "id": "fefa1334"
      },
      "source": [
        "\n",
        "|      |**Sol**|**Aguila**|\n",
        "|------|-------|----------|\n",
        "|f(x)|     0.5   |     0.5     |"
      ],
      "id": "fefa1334"
    },
    {
      "cell_type": "markdown",
      "metadata": {
        "id": "fd02116a"
      },
      "source": [
        "**PASO 3**. Enumere la distribución acumulada de probabilidad de cada variable."
      ],
      "id": "fd02116a"
    },
    {
      "cell_type": "markdown",
      "metadata": {
        "id": "59e252c6"
      },
      "source": [
        "|      |**Sol**|**Aguila**|\n",
        "|------|-------|----------|\n",
        "|f(x)  |    0.5   |    0.5      |\n",
        "|F(x)  |     0.5  |     1     |"
      ],
      "id": "59e252c6"
    },
    {
      "cell_type": "markdown",
      "metadata": {
        "id": "4852dcac"
      },
      "source": [
        "**PASO 4**. Establezca el intervalo de números aleatorios correspondiente a cada valor de cada una de las variables."
      ],
      "id": "4852dcac"
    },
    {
      "cell_type": "markdown",
      "metadata": {
        "id": "905db069"
      },
      "source": [
        "|           |**Sol**|**Aguila**|\n",
        "|-----------|-------|----------|\n",
        "|f(x)       |    0.5   |     0.5     |\n",
        "|F(x)       |    0.5   |      1    |\n",
        "|Intervalos |    [0-0.5)   |     [0.5-1)     |"
      ],
      "id": "905db069"
    },
    {
      "cell_type": "markdown",
      "metadata": {
        "id": "edb6b074"
      },
      "source": [
        "**PASO 5**. Genere números aleatorios."
      ],
      "id": "edb6b074"
    },
    {
      "cell_type": "code",
      "execution_count": null,
      "metadata": {
        "id": "yEeaWPq2GpbV"
      },
      "outputs": [],
      "source": [
        "import random\n",
        "import matplotlib.pyplot as plt"
      ],
      "id": "yEeaWPq2GpbV"
    },
    {
      "cell_type": "code",
      "execution_count": null,
      "metadata": {
        "id": "PPrtVT_-NHjH"
      },
      "outputs": [],
      "source": [
        "Lista=[];\n",
        "x=0"
      ],
      "id": "PPrtVT_-NHjH"
    },
    {
      "cell_type": "code",
      "execution_count": null,
      "metadata": {
        "id": "vwhS57M5OHRD"
      },
      "outputs": [],
      "source": [
        "def monedas():\n",
        " c=0\n",
        " Lista=[]\n",
        " for i in range (3):\n",
        "    Lista.append(random.random())\n",
        "    if Lista[i]<0.5:\n",
        "      c=c+1\n",
        "\n",
        " return(c)"
      ],
      "id": "vwhS57M5OHRD"
    },
    {
      "cell_type": "code",
      "execution_count": null,
      "metadata": {
        "colab": {
          "base_uri": "https://localhost:8080/"
        },
        "id": "DaNgDF5YHAE9",
        "outputId": "94c2a109-87b7-4911-cbf6-bfcd4b273956"
      },
      "outputs": [
        {
          "output_type": "stream",
          "name": "stdout",
          "text": [
            "1\n",
            "2\n",
            "1\n",
            "2\n",
            "2\n",
            "0\n",
            "1\n",
            "2\n",
            "2\n",
            "2\n",
            "1\n",
            "1\n",
            "1\n",
            "2\n",
            "2\n",
            "3\n",
            "1\n",
            "2\n",
            "2\n",
            "2\n",
            "Las veces que salieron 2 caras son:  9\n"
          ]
        }
      ],
      "source": [
        "\n",
        "x=0\n",
        "for j in range (20):\n",
        "  print(monedas())\n",
        "  if monedas()==2:\n",
        "    x=x+1\n",
        "print(\"Las veces que salieron 2 caras son: \", x)"
      ],
      "id": "DaNgDF5YHAE9"
    },
    {
      "cell_type": "markdown",
      "metadata": {
        "id": "15006d48"
      },
      "source": [],
      "id": "15006d48"
    },
    {
      "cell_type": "markdown",
      "metadata": {
        "id": "f38f3396"
      },
      "source": [
        "**PASO 6**. Simule un lanzamiento."
      ],
      "id": "f38f3396"
    },
    {
      "cell_type": "markdown",
      "metadata": {
        "id": "a68ba17e"
      },
      "source": [
        "Si Número de caras = 2       \n",
        "\n",
        "¿Aparecen dos caras? = **1**\n",
        "\n",
        "Si Número de caras ≠ 2       \n",
        "\n",
        "¿Aparecen dos caras? = **0**"
      ],
      "id": "a68ba17e"
    },
    {
      "cell_type": "markdown",
      "metadata": {
        "id": "d270399e"
      },
      "source": [
        "**PASO 7**. Obtenga la gráfica de estabilización que indica que el tamaño de muestra utilizado es suficiente para \n",
        "garantizar la convergencia del resultado."
      ],
      "id": "d270399e"
    },
    {
      "cell_type": "code",
      "execution_count": null,
      "metadata": {
        "colab": {
          "base_uri": "https://localhost:8080/",
          "height": 275
        },
        "id": "de554553",
        "outputId": "672d6997-f664-44a5-a2b2-ee469ea14b88"
      },
      "outputs": [
        {
          "data": {
            "image/png": "[encoded data removed]",
            "text/plain": [
              "<Figure size 640x480 with 1 Axes>"
            ]
          },
          "metadata": {},
          "output_type": "display_data"
        }
      ],
      "source": [
        "plt.hist(Lista, bins = 2, color = \"blue\", rwidth=0.9)\n",
        "plt.title(\"Probabilidad que salgan 2 caras en 3 lanzamients\")\n",
        "plt.xlabel(\"Cara/Cruz\")\n",
        "plt.ylabel(\"Frecuencia\")\n",
        "plt.show()"
      ],
      "id": "de554553"
    },
    {
      "cell_type": "markdown",
      "metadata": {
        "id": "4b616586"
      },
      "source": [
        "**PASO 8**. Replique el modelo."
      ],
      "id": "4b616586"
    },
    {
      "cell_type": "code",
      "execution_count": null,
      "metadata": {
        "id": "b3beace6"
      },
      "outputs": [],
      "source": [],
      "id": "b3beace6"
    },
    {
      "cell_type": "markdown",
      "metadata": {
        "id": "ed50eae0"
      },
      "source": [
        "**PASO 9**. Calcule la probabilidad de que aparezcan dos caras lanzando tres veces una moneda al aire y su desviación \n",
        "estándar."
      ],
      "id": "ed50eae0"
    },
    {
      "cell_type": "code",
      "execution_count": null,
      "metadata": {
        "id": "d3ddd8fd"
      },
      "outputs": [],
      "source": [],
      "id": "d3ddd8fd"
    },
    {
      "cell_type": "markdown",
      "metadata": {
        "id": "e5b90e8e"
      },
      "source": [
        "**PASO 10**. Halle el intervalo de confianza de la probabilidad de queaparezcan dos caras lanzando tres veces una moneda \n",
        "al aire con un nivel de confianza del $95 \\%$."
      ],
      "id": "e5b90e8e"
    },
    {
      "cell_type": "code",
      "execution_count": null,
      "metadata": {
        "id": "2fd22e33"
      },
      "outputs": [],
      "source": [],
      "id": "2fd22e33"
    }
  ],
  "metadata": {
    "colab": {
      "provenance": []
    },
    "kernelspec": {
      "display_name": "Python 3 (ipykernel)",
      "language": "python",
      "name": "python3"
    },
    "language_info": {
      "codemirror_mode": {
        "name": "ipython",
        "version": 3
      },
      "file_extension": ".py",
      "mimetype": "text/x-python",
      "name": "python",
      "nbconvert_exporter": "python",
      "pygments_lexer": "ipython3",
      "version": "3.7.3"
    }
  },
  "nbformat": 4,
  "nbformat_minor": 5
}